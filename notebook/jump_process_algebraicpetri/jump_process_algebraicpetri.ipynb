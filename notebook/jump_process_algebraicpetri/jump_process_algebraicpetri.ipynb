{
  "cells": [
    {
      "cell_type": "markdown",
      "source": [
        "# Jump process using AlgebraicPetri.jl\nMicah Halter (@mehalter), 2020-07-13\n\n## Introduction\n\nThis implementation defines the model as the composition of two interactions defined at domain-level semantics, transmission and recovery, simulated using `DiffEqJump.jl`.\n\n## Libraries"
      ],
      "metadata": {}
    },
    {
      "outputs": [],
      "cell_type": "code",
      "source": [
        "using AlgebraicPetri.Epidemiology\nusing Petri\nusing Catlab.Theories\nusing Catlab.CategoricalAlgebra.ShapeDiagrams\nusing Catlab.Graphics\nusing DiffEqJump\nusing Random\nusing DataFrames\nusing StatsPlots\nusing BenchmarkTools\nimport Base: ≤\n\n# helper function to visualize categorical representation\ndisplay_wd(ex) = to_graphviz(ex, orientation=LeftToRight, labels=true);"
      ],
      "metadata": {},
      "execution_count": null
    },
    {
      "cell_type": "markdown",
      "source": [
        "## Transitions\n\nUsing the categorical framework provided by the AlgebraicJulia environment, we\ncan think of building models as the combination of known building block open\nmodels.  For example we have $transmission: S \\otimes I \\rightarrow I$ and\n$recovery: I \\rightarrow R$ interactions defined in the Epidemiology module of\nAlgebraicPetri which can be visualized as the following Petri nets.\n\nTransmission (where $S_1 = S$ and $S_2 = I$):"
      ],
      "metadata": {}
    },
    {
      "outputs": [],
      "cell_type": "code",
      "source": [
        "Graph(decoration(F_epi(transmission)))"
      ],
      "metadata": {},
      "execution_count": null
    },
    {
      "cell_type": "markdown",
      "source": [
        "Recovery (where $S_1 = I$ and $S_2 = R$):"
      ],
      "metadata": {}
    },
    {
      "outputs": [],
      "cell_type": "code",
      "source": [
        "Graph(decoration(F_epi(recovery)))"
      ],
      "metadata": {},
      "execution_count": null
    },
    {
      "cell_type": "markdown",
      "source": [
        "In this approach we can think of an sir model as the composition of transmission\nand recovery. This allows us to define the relationship that the infected\npopulation coming out of the transmission interaction is the same as population\nof infected in the recovery interaction."
      ],
      "metadata": {}
    },
    {
      "outputs": [],
      "cell_type": "code",
      "source": [
        "sir_wiring_diagram = transmission ⋅ recovery\ndisplay_wd(sir_wiring_diagram)"
      ],
      "metadata": {},
      "execution_count": null
    },
    {
      "cell_type": "markdown",
      "source": [
        "using the function `F_epi` provided by `AlgebraicPetri.Epidemiology`, we can\nconvert this categorical definition of SIR to the Petri net representation and\nvisualize the newly created model (where $S_1 = S$, $S_2 = I$, and $S_3 = R$)."
      ],
      "metadata": {}
    },
    {
      "outputs": [],
      "cell_type": "code",
      "source": [
        "sir_model = decoration(F_epi(sir_wiring_diagram));\nGraph(sir_model)"
      ],
      "metadata": {},
      "execution_count": null
    },
    {
      "cell_type": "markdown",
      "source": [
        "## Time domain"
      ],
      "metadata": {}
    },
    {
      "outputs": [],
      "cell_type": "code",
      "source": [
        "tmax = 40.0\ntspan = (0.0,tmax);"
      ],
      "metadata": {},
      "execution_count": null
    },
    {
      "cell_type": "markdown",
      "source": [
        "For plotting, we can also define a separate time series."
      ],
      "metadata": {}
    },
    {
      "outputs": [],
      "cell_type": "code",
      "source": [
        "δt = 0.1\nt = 0:δt:tmax;"
      ],
      "metadata": {},
      "execution_count": null
    },
    {
      "cell_type": "markdown",
      "source": [
        "## Initial conditions"
      ],
      "metadata": {}
    },
    {
      "outputs": [],
      "cell_type": "code",
      "source": [
        "u0 = [990,10,0]; # S,I,R"
      ],
      "metadata": {},
      "execution_count": null
    },
    {
      "cell_type": "markdown",
      "source": [
        "## Parameter values"
      ],
      "metadata": {}
    },
    {
      "outputs": [],
      "cell_type": "code",
      "source": [
        "p = [0.05*10.0/sum(u0),0.25]; # β*c/N,γ"
      ],
      "metadata": {},
      "execution_count": null
    },
    {
      "cell_type": "markdown",
      "source": [
        "## Random number seed\n\nWe set a random number seed for reproducibility."
      ],
      "metadata": {}
    },
    {
      "outputs": [],
      "cell_type": "code",
      "source": [
        "Random.seed!(1234);"
      ],
      "metadata": {},
      "execution_count": null
    },
    {
      "cell_type": "markdown",
      "source": [
        "## Running the model\n\nRunning this model involves:\n\n- Setting up the problem as a `JumpProblem`;\n- Running the model, specifying `SSAStepper`"
      ],
      "metadata": {}
    },
    {
      "outputs": [],
      "cell_type": "code",
      "source": [
        "prob_jump = JumpProblem(sir_model, u0, tspan, p)"
      ],
      "metadata": {},
      "execution_count": null
    },
    {
      "outputs": [],
      "cell_type": "code",
      "source": [
        "sol_jump = solve(prob_jump,SSAStepper());"
      ],
      "metadata": {},
      "execution_count": null
    },
    {
      "cell_type": "markdown",
      "source": [
        "## Post-processing\n\nIn order to get output comparable across implementations, we output the model at a fixed set of times."
      ],
      "metadata": {}
    },
    {
      "outputs": [],
      "cell_type": "code",
      "source": [
        "out_jump = sol_jump(t);"
      ],
      "metadata": {},
      "execution_count": null
    },
    {
      "cell_type": "markdown",
      "source": [
        "We can convert to a dataframe for convenience."
      ],
      "metadata": {}
    },
    {
      "outputs": [],
      "cell_type": "code",
      "source": [
        "df_jump = DataFrame(out_jump')\ndf_jump[!,:t] = out_jump.t;"
      ],
      "metadata": {},
      "execution_count": null
    },
    {
      "cell_type": "markdown",
      "source": [
        "## Plotting\n\nWe can now plot the results."
      ],
      "metadata": {}
    },
    {
      "outputs": [],
      "cell_type": "code",
      "source": [
        "@df df_jump plot(:t,\n    [:x1 :x2 :x3],\n    label=[\"S\" \"I\" \"R\"],\n    xlabel=\"Time\",\n    ylabel=\"Number\")"
      ],
      "metadata": {},
      "execution_count": null
    },
    {
      "cell_type": "markdown",
      "source": [
        "## Benchmarking"
      ],
      "metadata": {}
    },
    {
      "outputs": [],
      "cell_type": "code",
      "source": [
        "@benchmark solve(prob_jump,SSAStepper())"
      ],
      "metadata": {},
      "execution_count": null
    }
  ],
  "nbformat_minor": 2,
  "metadata": {
    "language_info": {
      "file_extension": ".jl",
      "mimetype": "application/julia",
      "name": "julia",
      "version": "1.4.2"
    },
    "kernelspec": {
      "name": "julia-1.4",
      "display_name": "Julia 1.4.2",
      "language": "julia"
    }
  },
  "nbformat": 4
}
